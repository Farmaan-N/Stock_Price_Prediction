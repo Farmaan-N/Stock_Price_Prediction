import pandas as pd
import numpy as np
import yfinance as yf
import matplotlib.pyplot as plt
from sklearn.model_selection import train_test_split
from sklearn.preprocessing import PolynomialFeatures
from sklearn.linear_model import LinearRegression
from sklearn.metrics import mean_absolute_error, mean_squared_error
from datetime import timedelta

#  User Inputs
stock_symbol = input("Enter the stock symbol (e.g., WIPRO.NS): ").strip()
start_date = input("Enter the start date (YYYY-MM-DD): ").strip()
end_date = input("Enter the end date (YYYY-MM-DD): ").strip()

#  Fetch stock data from Yahoo Finance
print(f"\nFetching data for {stock_symbol} from {start_date} to {end_date}... Please wait.")
data = yf.download(stock_symbol, start=start_date, end=end_date)


if data.empty:
    print("\n No data found! Please check the stock symbol and date range.")
    exit()


data['Days'] = np.arange(len(data))
X = data[['Open', 'High', 'Low', 'Volume', 'Days']].values
y = data['Close'].values

X_train, X_test, y_train, y_test = train_test_split(X, y, test_size=0.2, random_state=42)

# Polynomial Regression Model
degree = 2  # CAN CHANGE DEGREE VALUE IF THE MODEL IS UNDERFIT OR OVERFIT
poly = PolynomialFeatures(degree=degree)
X_train_poly = poly.fit_transform(X_train)
X_test_poly = poly.transform(X_test)


model = LinearRegression()
model.fit(X_train_poly, y_train)


y_pred = model.predict(X_test_poly)

# Evaluate Model Accuracy
mae = mean_absolute_error(y_test, y_pred)
mse = mean_squared_error(y_test, y_pred)
rmse = np.sqrt(mse)

print("\nModel Performance:")
print("Mean Absolute Error (₹):", round(mae, 2))
print("Mean Squared Error (₹):", round(mse, 2))
print("Root Mean Squared Error (₹):", round(rmse, 2))

# Plot Actual vs Predicted
plt.figure(figsize=(12, 6))
plt.scatter(range(len(y_test)), y_test, color='blue', label="Actual Prices", alpha=0.5)
plt.scatter(range(len(y_pred)), y_pred, color='red', label="Predicted Prices", alpha=0.5)
plt.plot(sorted(range(len(y_test))), sorted(y_pred), linewidth=2, label="Trend Line")
plt.xlabel("Test Data Index")
plt.ylabel("Stock Price (INR)")
plt.title("Polynomial Regression")
plt.legend()
plt.show()


num_future_days = 3  # CAN CHANGE PREDICTION DAYS

last_day = data['Days'].iloc[-1]
last_date = data.index[-1]

future_days = np.array([last_day + i for i in range(1, num_future_days + 1)])

latest_features = data.iloc[-1][['Open', 'High', 'Low', 'Volume']].values
future_features = np.column_stack([np.tile(latest_features, (num_future_days, 1)), future_days])

future_poly = poly.transform(future_features)
future_prices = model.predict(future_poly)

# Print Future Predictions with Actual Dates
print(f"\n Predicted Prices for {stock_symbol} for the Next {num_future_days} Days:")
future_dates = []
for i, price in enumerate(future_prices, 1):
    future_date = last_date + timedelta(days=i)  # Calculate future date dynamically
    future_dates.append(future_date)
    print(f"{future_date.date()} → Predicted Price: ₹{float(np.squeeze(price)):.2f}")

#  Plot Future Predictions
plt.figure(figsize=(12, 6))
plt.plot(data.index, data['Close'], label="Actual Prices", color='blue', marker='o', linestyle="-")
plt.plot(future_dates, future_prices, label="Predicted Prices", color='red', marker='x', linestyle="--")
plt.xlabel("Date")
plt.ylabel("Stock Price (INR)")
plt.title(f"Future Stock Price Prediction for {stock_symbol}")
plt.legend()
plt.xticks(rotation=45)
plt.show()
